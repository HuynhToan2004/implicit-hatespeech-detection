{
 "cells": [
  {
   "cell_type": "code",
   "execution_count": 2,
   "id": "f34d48f6",
   "metadata": {},
   "outputs": [
    {
     "name": "stderr",
     "output_type": "stream",
     "text": [
      "Device set to use cuda:0\n"
     ]
    }
   ],
   "source": [
    "from transformers import AutoModelForSequenceClassification, AutoTokenizer, TextClassificationPipeline\n",
    "import pandas as pd\n",
    "from sklearn.metrics import classification_report\n",
    "from tqdm import tqdm\n",
    "import json\n",
    "\n",
    "# ✅ Load mô hình\n",
    "model = AutoModelForSequenceClassification.from_pretrained(\"/data/npl/ICEK/VACNIC/src/data/assest/phobert-finetune-hatespeech\", num_labels=3)\n",
    "tokenizer = AutoTokenizer.from_pretrained(\"/data/npl/ICEK/VACNIC/src/data/assest/phobert-finetune-hatespeech\")\n",
    "pipe = TextClassificationPipeline(model=model, tokenizer=tokenizer, top_k=1)"
   ]
  },
  {
   "cell_type": "code",
   "execution_count": 3,
   "id": "10aafc98",
   "metadata": {},
   "outputs": [],
   "source": [
    "import re\n",
    "EXPLICIT_SLURS = {\n",
    "    # ── Từ đơn ──\n",
    "    \"đm\", \"dm\", \"đmm\", \"đcm\", \"đcl\",\n",
    "    \"địt\", \"đụ\", \"đĩ\", \"điếm\", \"lồn\", \"cặc\",\n",
    "    \"chó\", \"khỉ\", \"lợn\", \"mọi\",\n",
    "\n",
    "    # ── Cụm ≥2 từ (giữ dấu cách) ──\n",
    "    \"địt mẹ\", \"đụ mẹ\", \"đụ má\", \"địt má\", \"đụ mẹ mày\", \"địt mẹ mày\",\n",
    "    \"con chó\", \"lũ chó\", \"bọn chó\", \"chó chết\", \"chó má\",\n",
    "    \"con khỉ\", \"lũ khỉ\", \"bọn khỉ\",\n",
    "    \"con lợn\", \"lũ lợn\", \"bọn lợn\",\n",
    "    \"con mọi\", \"thằng mọi\", \"bọn mọi\", \"lũ mọi\", \"mọi đen\", \"đám mọi\", \"đồ mọi\", \"mọi rợ\",\n",
    "    \"con đĩ\", \"con điếm\", \"đồ đĩ\", \"đồ điếm\", \"đĩ rẻ\", \"đĩ chúa\"\n",
    "}"
   ]
  },
  {
   "cell_type": "code",
   "execution_count": 9,
   "id": "a0eb7954",
   "metadata": {},
   "outputs": [],
   "source": [
    "data_list = []\n",
    "with open('/data/npl/ICEK/VACNIC/data/backup/LLMs/official_test.jsonl', 'r', encoding='utf-8') as infile:\n",
    "    i = 0\n",
    "    for line in infile:\n",
    "        if i <3069:\n",
    "            item = json.loads(line)\n",
    "            # Chỉ lấy translation và label\n",
    "            data_list.append({\n",
    "                'text': item['translation'],\n",
    "                'label': item['label']\n",
    "            })\n",
    "        i+=1\n",
    "df_data = pd.DataFrame(data_list)"
   ]
  },
  {
   "cell_type": "code",
   "execution_count": 8,
   "id": "6f2bccbc",
   "metadata": {},
   "outputs": [
    {
     "data": {
      "text/html": [
       "<div>\n",
       "<style scoped>\n",
       "    .dataframe tbody tr th:only-of-type {\n",
       "        vertical-align: middle;\n",
       "    }\n",
       "\n",
       "    .dataframe tbody tr th {\n",
       "        vertical-align: top;\n",
       "    }\n",
       "\n",
       "    .dataframe thead th {\n",
       "        text-align: right;\n",
       "    }\n",
       "</style>\n",
       "<table border=\"1\" class=\"dataframe\">\n",
       "  <thead>\n",
       "    <tr style=\"text-align: right;\">\n",
       "      <th></th>\n",
       "      <th>text</th>\n",
       "      <th>label</th>\n",
       "      <th>prediction</th>\n",
       "      <th>true_label</th>\n",
       "      <th>final_prediction</th>\n",
       "    </tr>\n",
       "  </thead>\n",
       "  <tbody>\n",
       "    <tr>\n",
       "      <th>0</th>\n",
       "      <td>Bắt chước phong cách âm nhạc và cử chỉ của họ ...</td>\n",
       "      <td>Implicit HS</td>\n",
       "      <td>LABEL_2</td>\n",
       "      <td>LABEL_2</td>\n",
       "      <td>Implicit HS</td>\n",
       "    </tr>\n",
       "    <tr>\n",
       "      <th>1</th>\n",
       "      <td>David Allen Snyder, 26 tuổi, đã qua đời vào ng...</td>\n",
       "      <td>Non HS</td>\n",
       "      <td>LABEL_0</td>\n",
       "      <td>LABEL_0</td>\n",
       "      <td>Non HS</td>\n",
       "    </tr>\n",
       "    <tr>\n",
       "      <th>2</th>\n",
       "      <td>Người Syria thì không biết quý trọng mạng sống...</td>\n",
       "      <td>Explicit HS</td>\n",
       "      <td>LABEL_2</td>\n",
       "      <td>LABEL_2</td>\n",
       "      <td>Explicit HS</td>\n",
       "    </tr>\n",
       "    <tr>\n",
       "      <th>3</th>\n",
       "      <td>Dân tộc nào tồn tại hàng ngàn năm mà vẫn luôn ...</td>\n",
       "      <td>Non HS</td>\n",
       "      <td>LABEL_0</td>\n",
       "      <td>LABEL_0</td>\n",
       "      <td>Non HS</td>\n",
       "    </tr>\n",
       "    <tr>\n",
       "      <th>4</th>\n",
       "      <td>Nếu bạn có vấn đề với cô ấy, chắc là vì bạn gh...</td>\n",
       "      <td>Implicit HS</td>\n",
       "      <td>LABEL_0</td>\n",
       "      <td>LABEL_2</td>\n",
       "      <td>Non HS</td>\n",
       "    </tr>\n",
       "  </tbody>\n",
       "</table>\n",
       "</div>"
      ],
      "text/plain": [
       "                                                text        label prediction  \\\n",
       "0  Bắt chước phong cách âm nhạc và cử chỉ của họ ...  Implicit HS    LABEL_2   \n",
       "1  David Allen Snyder, 26 tuổi, đã qua đời vào ng...       Non HS    LABEL_0   \n",
       "2  Người Syria thì không biết quý trọng mạng sống...  Explicit HS    LABEL_2   \n",
       "3  Dân tộc nào tồn tại hàng ngàn năm mà vẫn luôn ...       Non HS    LABEL_0   \n",
       "4  Nếu bạn có vấn đề với cô ấy, chắc là vì bạn gh...  Implicit HS    LABEL_0   \n",
       "\n",
       "  true_label final_prediction  \n",
       "0    LABEL_2      Implicit HS  \n",
       "1    LABEL_0           Non HS  \n",
       "2    LABEL_2      Explicit HS  \n",
       "3    LABEL_0           Non HS  \n",
       "4    LABEL_2           Non HS  "
      ]
     },
     "execution_count": 8,
     "metadata": {},
     "output_type": "execute_result"
    }
   ],
   "source": [
    "df_data[:5]"
   ]
  },
  {
   "cell_type": "code",
   "execution_count": 10,
   "id": "1eb9db28",
   "metadata": {},
   "outputs": [
    {
     "name": "stderr",
     "output_type": "stream",
     "text": [
      "Đang phân loại one-shot: 100%|██████████| 3063/3063 [00:32<00:00, 94.26it/s] \n"
     ]
    }
   ],
   "source": [
    " def is_explicit(text: str) -> bool:\n",
    "    \"\"\"\n",
    "    Trả về True nếu text chứa bất kỳ slur nằm trong EXPLICIT_SLURS.\n",
    "    Không phân biệt hoa thường; tách từ bằng regex \\w+.\n",
    "    \"\"\"\n",
    "    tokens = re.findall(r\"\\w+\", text.lower())\n",
    "    return any(tok in EXPLICIT_SLURS for tok in tokens)\n",
    "\n",
    "def zero_shot_prediction_df(df):\n",
    "    preds = []\n",
    "    for text in tqdm(df['text'], desc=\"Đang phân loại one-shot\"):\n",
    "\n",
    "        result = pipe(text)[0][0]['label']  \n",
    "        preds.append(result)\n",
    "\n",
    "    df['prediction'] = preds\n",
    "    df['true_label'] = df['label'].map(\n",
    "        lambda x: 'LABEL_2' if x in ('Implicit HS', 'Explicit HS') else 'LABEL_0'\n",
    "    )\n",
    "\n",
    "    def get_final_pred(row):\n",
    "        label = row['label']      \n",
    "        pred  = row['prediction']   \n",
    "        text  = row['text']\n",
    "\n",
    "        if label == 'Implicit HS' and pred == 'LABEL_2':\n",
    "            return 'Implicit HS'\n",
    "        elif label == 'Explicit HS' and pred == 'LABEL_2':\n",
    "            return 'Explicit HS'\n",
    "\n",
    "        # hate thật nhưng mô hình bảo 'clean'\n",
    "        elif label in ('Implicit HS', 'Explicit HS') and pred == 'LABEL_0':\n",
    "            return 'Non HS'\n",
    "\n",
    "        # non thật + mô hình clean\n",
    "        elif label == 'Non HS' and pred == 'LABEL_0':\n",
    "            return 'Non HS'\n",
    "\n",
    "        # ---- TH còn lại: label = non & pred = hate ----\n",
    "        else: return 'Explicit HS' if is_explicit(text) else 'Implicit HS'\n",
    "\n",
    "    df['final_prediction'] = df.apply(get_final_pred, axis=1)\n",
    "    return df\n",
    "\n",
    "\n",
    "df_zero = zero_shot_prediction_df(df_data)"
   ]
  },
  {
   "cell_type": "code",
   "execution_count": 11,
   "id": "3047d4b6",
   "metadata": {},
   "outputs": [
    {
     "name": "stdout",
     "output_type": "stream",
     "text": [
      "              precision    recall  f1-score   support\n",
      "\n",
      " Explicit HS       0.99      0.95      0.97       982\n",
      " Implicit HS       0.61      0.47      0.53      1090\n",
      "      Non HS       0.52      0.68      0.59       991\n",
      "\n",
      "    accuracy                           0.69      3063\n",
      "   macro avg       0.71      0.70      0.70      3063\n",
      "weighted avg       0.70      0.69      0.69      3063\n",
      "\n"
     ]
    }
   ],
   "source": [
    "print(classification_report(df_zero['label'],df_zero['final_prediction']))"
   ]
  }
 ],
 "metadata": {
  "kernelspec": {
   "display_name": "Python 3",
   "language": "python",
   "name": "python3"
  },
  "language_info": {
   "codemirror_mode": {
    "name": "ipython",
    "version": 3
   },
   "file_extension": ".py",
   "mimetype": "text/x-python",
   "name": "python",
   "nbconvert_exporter": "python",
   "pygments_lexer": "ipython3",
   "version": "3.9.22"
  }
 },
 "nbformat": 4,
 "nbformat_minor": 5
}
